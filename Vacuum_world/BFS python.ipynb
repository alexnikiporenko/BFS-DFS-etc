{
 "cells": [
  {
   "cell_type": "markdown",
   "metadata": {},
   "source": [
    "### Vacuum world\n"
   ]
  },
  {
   "cell_type": "code",
   "execution_count": 27,
   "metadata": {},
   "outputs": [
    {
     "name": "stdout",
     "output_type": "stream",
     "text": [
      "Expanding node:\n",
      "| h |   |\n",
      "|***|***|\n",
      "Node added to frontier:\n",
      "|   | h |\n",
      "|***|***|\n",
      "Node added to frontier:\n",
      "| h |   |\n",
      "|   |***|\n",
      "Expanding node:\n",
      "|   | h |\n",
      "|***|***|\n",
      "Node added to frontier:\n",
      "|   | h |\n",
      "|***|   |\n",
      "Expanding node:\n",
      "| h |   |\n",
      "|   |***|\n",
      "Node added to frontier:\n",
      "|   | h |\n",
      "|   |***|\n",
      "Expanding node:\n",
      "|   | h |\n",
      "|***|   |\n",
      "Node added to frontier:\n",
      "| h |   |\n",
      "|***|   |\n",
      "Expanding node:\n",
      "|   | h |\n",
      "|   |***|\n",
      "Goal state found!\n",
      "|   | h |\n",
      "|   |   |\n"
     ]
    },
    {
     "data": {
      "text/plain": [
       "(False, False, False)"
      ]
     },
     "execution_count": 27,
     "metadata": {},
     "output_type": "execute_result"
    }
   ],
   "source": [
    "from collections import deque\n",
    "\n",
    "def left(p_left, d_left, d_right):\n",
    "    return (True, d_left, d_right)\n",
    "\n",
    "def right(p_left, d_left, d_right):\n",
    "    return (False, d_left, d_right)\n",
    "\n",
    "def suck(p_left, d_left, d_right):\n",
    "    if p_left:\n",
    "        return (p_left, False, d_right)\n",
    "    return (p_left, d_left, False)\n",
    "\n",
    "def goal_test(p_left, d_left, d_right):\n",
    "    if not d_left and not d_right:\n",
    "        return True\n",
    "    return False\n",
    "\n",
    "def node_to_pic(p_left, d_left, d_right):\n",
    "    clean = \"   \"\n",
    "    dirt = \"***\"\n",
    "    out = f\"{'| h |   |' if p_left else '|   | h |'}\\n|{dirt if d_left else clean}|{dirt if d_right else clean}|\"\n",
    "    print(out)\n",
    "\n",
    "def vac_bfs(state):\n",
    "    frontier = deque([state])\n",
    "    explored = set()\n",
    "\n",
    "    while frontier:\n",
    "        node = frontier.popleft()\n",
    "        print(\"Expanding node:\")\n",
    "        node_to_pic(*node)\n",
    "        explored.add(node)\n",
    "\n",
    "        actions = [left(*node), right(*node), suck(*node)]\n",
    "\n",
    "        for a in actions:\n",
    "            if a not in explored and a not in frontier:\n",
    "                if goal_test(*a):\n",
    "                    print(\"Goal state found!\")\n",
    "                    node_to_pic(*a)\n",
    "                    return a\n",
    "                print(\"Node added to frontier:\")\n",
    "                node_to_pic(*a)\n",
    "                frontier.append(a)\n",
    "    return False\n",
    "\n",
    "vac_bfs((True, True, True))"
   ]
  }
 ],
 "metadata": {
  "interpreter": {
   "hash": "35d7e08f1f98ee58e9edced7a1043a5fc18613eb6991aa1cd3ec2f710d69752e"
  },
  "kernelspec": {
   "display_name": "Python 3.10.1 64-bit",
   "language": "python",
   "name": "python3"
  },
  "language_info": {
   "codemirror_mode": {
    "name": "ipython",
    "version": 3
   },
   "file_extension": ".py",
   "mimetype": "text/x-python",
   "name": "python",
   "nbconvert_exporter": "python",
   "pygments_lexer": "ipython3",
   "version": "3.10.1"
  },
  "orig_nbformat": 4
 },
 "nbformat": 4,
 "nbformat_minor": 2
}
